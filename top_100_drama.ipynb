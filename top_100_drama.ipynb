{
 "cells": [
  {
   "cell_type": "code",
   "execution_count": 1,
   "metadata": {},
   "outputs": [
    {
     "name": "stdout",
     "output_type": "stream",
     "text": [
      "<Response [200]>\n"
     ]
    }
   ],
   "source": [
    "import requests\n",
    "from bs4 import BeautifulSoup\n",
    "import pandas as pd\n",
    "import re\n",
    "\n",
    "page = requests.get('https://www.imdb.com/list/ls076655138/')\n",
    "print(page)\n",
    "soup = BeautifulSoup(page.content,'html.parser')"
   ]
  },
  {
   "cell_type": "code",
   "execution_count": 2,
   "metadata": {},
   "outputs": [],
   "source": [
    "# scraping site for data on genre, stars(actors) and filming dates\n",
    "\n",
    "genre_data = soup.find_all('span',class_='genre')\n",
    "cast_data = soup.find_all('p', class_=\"text-muted text-small\")\n",
    "\n",
    "directors_and_actors = []   # empty list to store text data from cast\n",
    "genre = []     # empty list to store text data from genre\n",
    "director_name = []      # empty list to store director's names in order\n",
    "stars = []         # empty list to store actor's names in order\n",
    "\n",
    "for i in range(len(genre_data)):\n",
    "    genre.append(genre_data[i].text.strip())\n",
    "\n",
    "for i in range(1,len(cast_data),3):\n",
    "    directors_and_actors.append(cast_data[i].text.strip())\n",
    "\n",
    "# Seperating the director's and actor's names from list\n",
    "for i in range(len(directors_and_actors)):\n",
    "    empty_string = ''\n",
    "    for j in range(len(directors_and_actors[i])):\n",
    "        if ord(directors_and_actors[i][j]) != 124:\n",
    "            empty_string = empty_string + directors_and_actors[i][j]\n",
    "        else:\n",
    "            director_name.append(empty_string.strip('Director:').strip())\n",
    "            break\n",
    "    empty_string = ''\n",
    "    for k in range(1,len(directors_and_actors[i])):\n",
    "        if ord(directors_and_actors[i][-k]) != 124:\n",
    "            empty_string = directors_and_actors[i][-k] + empty_string\n",
    "        else:\n",
    "            stars.append(empty_string.strip().strip('Stars:').replace('\\n',''))\n",
    "            break"
   ]
  },
  {
   "cell_type": "code",
   "execution_count": 3,
   "metadata": {},
   "outputs": [],
   "source": [
    "div = soup.find_all('div', {'class': 'lister list detail sub-list'})\n",
    "movie_name = soup.find_all('h3', {'class': 'lister-item-header'})\n",
    "description = soup.find_all('p', class_='')\n",
    "\n",
    "movie_name_list = []\n",
    "description_list = []\n",
    "year_list = []\n",
    "\n",
    "for x in range(100):\n",
    "    movie_name_list.append(movie_name[x].text.strip(\"\").replace(\"\\n\",\"\"))\n",
    "    year_list.append(movie_name[x].text.strip(\"\").replace(\"\\n\",\"\"))\n",
    "    year_list[x] = ''.join([j for j in year_list[x] if j.isdigit()])\n",
    "    movie_name_list[x] = ''.join([j for j in movie_name_list[x] if not j.isdigit()])\n",
    "for x in range(len(year_list)):\n",
    "    year_list[x] = year_list[x][-4:]\n",
    "    movie_name_list[x] = movie_name_list[x][1:-2]\n",
    "    description_list.append(description[x].text.strip(\"\\n\"))\n"
   ]
  }
 ],
 "metadata": {
  "interpreter": {
   "hash": "e171acd309c06983148c9856e741c79a7072f11ec9d548c93ae4f1382cc847af"
  },
  "kernelspec": {
   "display_name": "Python 3.8.12 64-bit ('strive': conda)",
   "language": "python",
   "name": "python3"
  },
  "language_info": {
   "codemirror_mode": {
    "name": "ipython",
    "version": 3
   },
   "file_extension": ".py",
   "mimetype": "text/x-python",
   "name": "python",
   "nbconvert_exporter": "python",
   "pygments_lexer": "ipython3",
   "version": "3.8.12"
  },
  "orig_nbformat": 4
 },
 "nbformat": 4,
 "nbformat_minor": 2
}
